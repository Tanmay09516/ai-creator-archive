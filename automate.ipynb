{
 "cells": [
  {
   "cell_type": "code",
   "execution_count": null,
   "metadata": {},
   "outputs": [],
   "source": [
    "import os, json\n",
    "\n",
    "directory = ''\n",
    "\n",
    "folders = []\n",
    "\n",
    "for item in os.listdir(directory):\n",
    "    if os.path.isdir(os.path.join(directory, item)):\n",
    "        for sub_item in os.listdir(os.path.join(directory, item)):\n",
    "            if os.path.isdir(os.path.join(directory, item, sub_item)):\n",
    "                for sub_sub_item in os.listdir(os.path.join(directory, item, sub_item)):\n",
    "                    if os.path.isdir(os.path.join(directory, item, sub_item, sub_sub_item)):\n",
    "                        files = [f for f in os.listdir(os.path.join(directory, item, sub_item, sub_sub_item)) if os.path.isfile(os.path.join(os.path.join(directory, item, sub_item, sub_sub_item), f))]\n",
    "                        files = [line for line in (open(os.path.join(directory, item, sub_item, sub_sub_item, file), 'r').readline() for file in files) if file in files]\n",
    "                        folders.append([item, sub_item, sub_sub_item, files])\n",
    "\n",
    "folders_list = [{\n",
    "                \"creator_username\": folder[0],\n",
    "                \"model_name\": folder[1],\n",
    "                \"model_version\": folder[2],\n",
    "                \"images\": [f\"https://aica.pages.dev/creators/{folder[0]}/{folder[1]}/{folder[2]}/1.png\", \n",
    "                            f\"https://aica.pages.dev/creators/{folder[0]}/{folder[1]}/{folder[2]}/2.png\", \n",
    "                            f\"https://aica.pages.dev/creators/{folder[0]}/{folder[1]}/{folder[2]}/3.png\", \n",
    "                            f\"https://aica.pages.dev/creators/{folder[0]}/{folder[1]}/{folder[2]}/4.png\"],\n",
    "                \"links\" : folder[3][0],\n",
    "                \"online\" : folder[3][1],\n",
    "                \"tokens\": folder[3][2],\n",
    "                \"info\" : \"info\"\n",
    "                } \n",
    "                for folder in folders]\n",
    "\n",
    "json_array = json.dumps(folders_list)\n",
    "print(json_array)\n",
    "with open('all.json', 'w') as outfile:\n",
    "    json.dump(folders_list, outfile, sort_keys=True, indent=4)"
   ]
  }
 ],
 "metadata": {
  "kernelspec": {
   "display_name": "Python 3",
   "language": "python",
   "name": "python3"
  },
  "language_info": {
   "codemirror_mode": {
    "name": "ipython",
    "version": 3
   },
   "file_extension": ".py",
   "mimetype": "text/x-python",
   "name": "python",
   "nbconvert_exporter": "python",
   "pygments_lexer": "ipython3",
   "version": "3.10.8"
  },
  "orig_nbformat": 4,
  "vscode": {
   "interpreter": {
    "hash": "e593ac106456af50ce7af38f9671c411b49d6cd90f9b885e167f0f594e09038c"
   }
  }
 },
 "nbformat": 4,
 "nbformat_minor": 2
}
